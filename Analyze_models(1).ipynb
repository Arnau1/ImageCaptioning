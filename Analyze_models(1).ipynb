{
  "cells": [
    {
      "cell_type": "markdown",
      "metadata": {
        "id": "lmuidRss__ot"
      },
      "source": [
        "# Imports"
      ]
    },
    {
      "cell_type": "code",
      "execution_count": 1,
      "metadata": {
        "colab": {
          "base_uri": "https://localhost:8080/"
        },
        "id": "Fc1DQP-k_sar",
        "outputId": "dd4a50d8-ce66-4ca0-b616-1d729cb43f9c"
      },
      "outputs": [
        {
          "output_type": "stream",
          "name": "stdout",
          "text": [
            "Requirement already satisfied: evaluate in /usr/local/lib/python3.10/dist-packages (0.4.3)\n",
            "Requirement already satisfied: datasets>=2.0.0 in /usr/local/lib/python3.10/dist-packages (from evaluate) (3.2.0)\n",
            "Requirement already satisfied: numpy>=1.17 in /usr/local/lib/python3.10/dist-packages (from evaluate) (1.26.4)\n",
            "Requirement already satisfied: dill in /usr/local/lib/python3.10/dist-packages (from evaluate) (0.3.8)\n",
            "Requirement already satisfied: pandas in /usr/local/lib/python3.10/dist-packages (from evaluate) (2.2.2)\n",
            "Requirement already satisfied: requests>=2.19.0 in /usr/local/lib/python3.10/dist-packages (from evaluate) (2.32.3)\n",
            "Requirement already satisfied: tqdm>=4.62.1 in /usr/local/lib/python3.10/dist-packages (from evaluate) (4.66.6)\n",
            "Requirement already satisfied: xxhash in /usr/local/lib/python3.10/dist-packages (from evaluate) (3.5.0)\n",
            "Requirement already satisfied: multiprocess in /usr/local/lib/python3.10/dist-packages (from evaluate) (0.70.16)\n",
            "Requirement already satisfied: fsspec>=2021.05.0 in /usr/local/lib/python3.10/dist-packages (from fsspec[http]>=2021.05.0->evaluate) (2024.9.0)\n",
            "Requirement already satisfied: huggingface-hub>=0.7.0 in /usr/local/lib/python3.10/dist-packages (from evaluate) (0.26.5)\n",
            "Requirement already satisfied: packaging in /usr/local/lib/python3.10/dist-packages (from evaluate) (24.2)\n",
            "Requirement already satisfied: filelock in /usr/local/lib/python3.10/dist-packages (from datasets>=2.0.0->evaluate) (3.16.1)\n",
            "Requirement already satisfied: pyarrow>=15.0.0 in /usr/local/lib/python3.10/dist-packages (from datasets>=2.0.0->evaluate) (17.0.0)\n",
            "Requirement already satisfied: aiohttp in /usr/local/lib/python3.10/dist-packages (from datasets>=2.0.0->evaluate) (3.11.10)\n",
            "Requirement already satisfied: pyyaml>=5.1 in /usr/local/lib/python3.10/dist-packages (from datasets>=2.0.0->evaluate) (6.0.2)\n",
            "Requirement already satisfied: typing-extensions>=3.7.4.3 in /usr/local/lib/python3.10/dist-packages (from huggingface-hub>=0.7.0->evaluate) (4.12.2)\n",
            "Requirement already satisfied: charset-normalizer<4,>=2 in /usr/local/lib/python3.10/dist-packages (from requests>=2.19.0->evaluate) (3.4.0)\n",
            "Requirement already satisfied: idna<4,>=2.5 in /usr/local/lib/python3.10/dist-packages (from requests>=2.19.0->evaluate) (3.10)\n",
            "Requirement already satisfied: urllib3<3,>=1.21.1 in /usr/local/lib/python3.10/dist-packages (from requests>=2.19.0->evaluate) (2.2.3)\n",
            "Requirement already satisfied: certifi>=2017.4.17 in /usr/local/lib/python3.10/dist-packages (from requests>=2.19.0->evaluate) (2024.8.30)\n",
            "Requirement already satisfied: python-dateutil>=2.8.2 in /usr/local/lib/python3.10/dist-packages (from pandas->evaluate) (2.8.2)\n",
            "Requirement already satisfied: pytz>=2020.1 in /usr/local/lib/python3.10/dist-packages (from pandas->evaluate) (2024.2)\n",
            "Requirement already satisfied: tzdata>=2022.7 in /usr/local/lib/python3.10/dist-packages (from pandas->evaluate) (2024.2)\n",
            "Requirement already satisfied: aiohappyeyeballs>=2.3.0 in /usr/local/lib/python3.10/dist-packages (from aiohttp->datasets>=2.0.0->evaluate) (2.4.4)\n",
            "Requirement already satisfied: aiosignal>=1.1.2 in /usr/local/lib/python3.10/dist-packages (from aiohttp->datasets>=2.0.0->evaluate) (1.3.1)\n",
            "Requirement already satisfied: async-timeout<6.0,>=4.0 in /usr/local/lib/python3.10/dist-packages (from aiohttp->datasets>=2.0.0->evaluate) (4.0.3)\n",
            "Requirement already satisfied: attrs>=17.3.0 in /usr/local/lib/python3.10/dist-packages (from aiohttp->datasets>=2.0.0->evaluate) (24.2.0)\n",
            "Requirement already satisfied: frozenlist>=1.1.1 in /usr/local/lib/python3.10/dist-packages (from aiohttp->datasets>=2.0.0->evaluate) (1.5.0)\n",
            "Requirement already satisfied: multidict<7.0,>=4.5 in /usr/local/lib/python3.10/dist-packages (from aiohttp->datasets>=2.0.0->evaluate) (6.1.0)\n",
            "Requirement already satisfied: propcache>=0.2.0 in /usr/local/lib/python3.10/dist-packages (from aiohttp->datasets>=2.0.0->evaluate) (0.2.1)\n",
            "Requirement already satisfied: yarl<2.0,>=1.17.0 in /usr/local/lib/python3.10/dist-packages (from aiohttp->datasets>=2.0.0->evaluate) (1.18.3)\n",
            "Requirement already satisfied: six>=1.5 in /usr/local/lib/python3.10/dist-packages (from python-dateutil>=2.8.2->pandas->evaluate) (1.17.0)\n",
            "Requirement already satisfied: rouge_score in /usr/local/lib/python3.10/dist-packages (0.1.2)\n",
            "Requirement already satisfied: absl-py in /usr/local/lib/python3.10/dist-packages (from rouge_score) (1.4.0)\n",
            "Requirement already satisfied: nltk in /usr/local/lib/python3.10/dist-packages (from rouge_score) (3.9.1)\n",
            "Requirement already satisfied: numpy in /usr/local/lib/python3.10/dist-packages (from rouge_score) (1.26.4)\n",
            "Requirement already satisfied: six>=1.14.0 in /usr/local/lib/python3.10/dist-packages (from rouge_score) (1.17.0)\n",
            "Requirement already satisfied: click in /usr/local/lib/python3.10/dist-packages (from nltk->rouge_score) (8.1.7)\n",
            "Requirement already satisfied: joblib in /usr/local/lib/python3.10/dist-packages (from nltk->rouge_score) (1.4.2)\n",
            "Requirement already satisfied: regex>=2021.8.3 in /usr/local/lib/python3.10/dist-packages (from nltk->rouge_score) (2024.9.11)\n",
            "Requirement already satisfied: tqdm in /usr/local/lib/python3.10/dist-packages (from nltk->rouge_score) (4.66.6)\n"
          ]
        }
      ],
      "source": [
        "!pip install evaluate\n",
        "!pip install rouge_score"
      ]
    },
    {
      "cell_type": "code",
      "execution_count": 17,
      "metadata": {
        "colab": {
          "base_uri": "https://localhost:8080/"
        },
        "id": "jRBoMHjF_YjV",
        "outputId": "12fa90f3-1667-4c0e-d1ab-62e555fc53c2"
      },
      "outputs": [
        {
          "output_type": "stream",
          "name": "stderr",
          "text": [
            "[nltk_data] Downloading package wordnet to /root/nltk_data...\n",
            "[nltk_data]   Package wordnet is already up-to-date!\n"
          ]
        },
        {
          "output_type": "stream",
          "name": "stdout",
          "text": [
            "Imports Done!\n"
          ]
        }
      ],
      "source": [
        "import pandas as pd\n",
        "import os\n",
        "import cv2\n",
        "import numpy as np\n",
        "import pickle\n",
        "import json\n",
        "import ast\n",
        "import evaluate\n",
        "import nltk\n",
        "nltk.download('wordnet')\n",
        "from nltk.translate.meteor_score import meteor_score\n",
        "from rouge_score import rouge_scorer\n",
        "import matplotlib.pyplot as plt\n",
        "import seaborn as sns\n",
        "print('Imports Done!')"
      ]
    },
    {
      "cell_type": "code",
      "source": [
        "bleu_metric = evaluate.load(\"bleu\")\n",
        "def compute_metrics(predicted, label):\n",
        "    \"\"\"\n",
        "    Compute BLEU, ROUGE, and METEOR scores for a single predicted sentence\n",
        "    against a single reference sentence.\n",
        "\n",
        "    Args:\n",
        "    predicted (str): The predicted sentence.\n",
        "    label (str): The ground-truth reference sentence.\n",
        "\n",
        "    Returns:\n",
        "    dict: A dictionary containing BLEU, ROUGE-1, ROUGE-2, ROUGE-L, and METEOR scores.\n",
        "    \"\"\"\n",
        "    # Initialize BLEU metric from evaluate\n",
        "\n",
        "    # Compute BLEU score\n",
        "    bleu_1 = bleu_metric.compute(predictions=[predicted], references=[[label]], max_order=1)['bleu']\n",
        "    bleu_2 = bleu_metric.compute(predictions=[predicted], references=[[label]], max_order=2)['bleu']\n",
        "\n",
        "    # Initialize ROUGE scorer\n",
        "    rouge_scorer_instance = rouge_scorer.RougeScorer(['rouge1', 'rouge2', 'rougeL'], use_stemmer=True)\n",
        "    scores = rouge_scorer_instance.score(label, predicted)\n",
        "\n",
        "    # Extract ROUGE scores\n",
        "    rouge_scores = {\n",
        "        \"ROUGE-1\": scores['rouge1'].fmeasure,\n",
        "        \"ROUGE-2\": scores['rouge2'].fmeasure,\n",
        "        \"ROUGE-L\": scores['rougeL'].fmeasure\n",
        "    }\n",
        "\n",
        "    # Compute METEOR score (tokenizing both label and prediction)\n",
        "    meteor = meteor_score([label.split()], predicted.split())\n",
        "\n",
        "    # Return the results\n",
        "    return {\n",
        "        \"BLEU-1\": bleu_1,\n",
        "        \"BLEU-2\": bleu_2,\n",
        "        \"ROUGE-1\": rouge_scores[\"ROUGE-1\"],\n",
        "        \"ROUGE-2\": rouge_scores[\"ROUGE-2\"],\n",
        "        \"ROUGE-L\": rouge_scores[\"ROUGE-L\"],\n",
        "        \"METEOR\": meteor\n",
        "    }\n",
        "\n",
        "def evaluate_model(predictions, labels):\n",
        "    \"\"\"\n",
        "    Evaluate a list of predictions against their corresponding single reference sentences.\n",
        "    Calls `compute_metrics` for each prediction-label pair and aggregates results.\n",
        "\n",
        "    Args:\n",
        "    predictions (list of str): The predicted sentences.\n",
        "    labels (list of str): The ground-truth reference sentences.\n",
        "\n",
        "    Returns:\n",
        "    dict: A dictionary with average BLEU, ROUGE-1, ROUGE-2, ROUGE-L, and METEOR scores,\n",
        "          as well as a detailed breakdown of scores for each prediction.\n",
        "    \"\"\"\n",
        "    assert len(predictions) == len(labels), \"The number of predictions and labels must match.\"\n",
        "\n",
        "    # Initialize accumulators for metrics\n",
        "    metrics_summary = {\n",
        "        \"BLEU-1\": [],\n",
        "        \"BLEU-2\": [],\n",
        "        \"ROUGE-1\": [],\n",
        "        \"ROUGE-2\": [],\n",
        "        \"ROUGE-L\": [],\n",
        "        \"METEOR\": []\n",
        "    }\n",
        "    detailed_metrics = []\n",
        "\n",
        "    # Compute metrics for each prediction\n",
        "    for pred, label in zip(predictions, labels):\n",
        "        metrics = compute_metrics(pred, label)\n",
        "        detailed_metrics.append(metrics)\n",
        "\n",
        "        for key in metrics:\n",
        "            metrics_summary[key].append(metrics[key])\n",
        "\n",
        "    # Compute average metrics\n",
        "    avg_metrics = {key: sum(values) / len(values) for key, values in metrics_summary.items()}\n",
        "\n",
        "    return {\n",
        "        \"Average Metrics\": avg_metrics,\n",
        "        \"Detailed Metrics\": detailed_metrics\n",
        "    }"
      ],
      "metadata": {
        "colab": {
          "base_uri": "https://localhost:8080/"
        },
        "id": "G95VKwApDCcK",
        "outputId": "6d3906d1-3f8a-4ce5-d481-f7ee738f6742"
      },
      "execution_count": 3,
      "outputs": [
        {
          "output_type": "stream",
          "name": "stderr",
          "text": [
            "/usr/local/lib/python3.10/dist-packages/huggingface_hub/utils/_auth.py:94: UserWarning: \n",
            "The secret `HF_TOKEN` does not exist in your Colab secrets.\n",
            "To authenticate with the Hugging Face Hub, create a token in your settings tab (https://huggingface.co/settings/tokens), set it as secret in your Google Colab and restart your session.\n",
            "You will be able to reuse this secret in all of your notebooks.\n",
            "Please note that authentication is recommended but still optional to access public models or datasets.\n",
            "  warnings.warn(\n"
          ]
        }
      ]
    },
    {
      "cell_type": "markdown",
      "metadata": {
        "id": "p-USEd0V8JK1"
      },
      "source": [
        "Now we will import the different json files and make a pandas dataframe with all the information."
      ]
    },
    {
      "cell_type": "code",
      "execution_count": 4,
      "metadata": {
        "colab": {
          "base_uri": "https://localhost:8080/"
        },
        "id": "Z9f32ZhP61am",
        "outputId": "ed75ba8d-7343-4c22-a898-1059ee41f1e0"
      },
      "outputs": [
        {
          "output_type": "stream",
          "name": "stdout",
          "text": [
            "Skipping malformed line: [\n",
            "Skipping malformed line: ]\n",
            "The length of the data is: 1252\n"
          ]
        }
      ],
      "source": [
        "# Load the JSON file\n",
        "with open('CanYouDescribeTheImage.json', 'r') as file:\n",
        "    json_data = json.load(file)\n",
        "\n",
        "# Convert JSON data to a pandas DataFrame\n",
        "df = pd.DataFrame(json_data, columns=[\"Baseline\", \"Image\"])\n",
        "\n",
        "# Load the second JSON file\n",
        "with open('CanYouGiveATitleToThisDish.json', 'r') as file:\n",
        "    new_json_data = json.load(file)\n",
        "\n",
        "# Convert new JSON data to a pandas DataFrame\n",
        "new_df = pd.DataFrame(new_json_data, columns=[\"TitleToDish\", \"Ground Truth\", \"Image\"])\n",
        "\n",
        "# Merge the two DataFrames on the Image column to ensure data sharing the same Image is on the same row\n",
        "df = pd.merge(df, new_df, on=\"Image\", how=\"outer\")\n",
        "\n",
        "\n",
        "# Load the JSON file into a Pandas DataFrame\n",
        "file_path = 'what_is_the_name_of_this_dish.json'  # Replace with your JSON file path\n",
        "\n",
        "# Initialize a list to store data from each line\n",
        "data = []\n",
        "\n",
        "# Read and parse the file line-by-line\n",
        "with open(file_path, 'r') as file:\n",
        "    for line in file:\n",
        "        line = line.strip()  # Remove extra whitespace\n",
        "        if line.startswith(\"[\") and line.endswith(\"]\"):  # Ensure it's a JSON array\n",
        "            try:\n",
        "                # Parse the line as a JSON array\n",
        "                parsed_line = json.loads(line)\n",
        "                data.append(parsed_line)  # Add the parsed data to the list\n",
        "            except json.JSONDecodeError as e:\n",
        "                print(f\"Skipping invalid JSON line: {line}\\nError: {e}\")\n",
        "        else:\n",
        "            print(f\"Skipping malformed line: {line}\")\n",
        "print(\"The length of the data is:\", len(data))\n",
        "\n",
        "# Check if data was successfully collected\n",
        "if not data:\n",
        "    print(\"No valid data found in the file.\")\n",
        "else:\n",
        "    # Convert the data into a DataFrame\n",
        "    new_df = pd.DataFrame(data, columns=[\"NameOfDish\", \"Ground Truth\", \"Image\"])\n",
        "    del new_df[\"Ground Truth\"]\n",
        "    # Merge the two DataFrames on the Image column to ensure data sharing the same Image is on the same row\n",
        "    df = pd.merge(df, new_df, on=\"Image\", how=\"outer\")\n",
        "\n",
        "\n",
        "# File path to the JSON file\n",
        "file_path = 'finetuned_1_epoch.json'\n",
        "\n",
        "# Load the JSON data\n",
        "with open(file_path, 'r') as file:\n",
        "    data = json.load(file)  # Parse the JSON file as a dictionary\n",
        "\n",
        "# Convert the JSON dictionary into a DataFrame\n",
        "new_df = pd.DataFrame.from_dict(data, orient='index')\n",
        "\n",
        "# Reset the index and move the row key into a new column named \"Image\"\n",
        "new_df = new_df.reset_index().rename(columns={\"index\": \"Image\"})\n",
        "\n",
        "new_df[\"Image\"] = new_df[\"Image\"] + \".jpg\"\n",
        "del new_df['actual_title']\n",
        "new_df.rename(columns = {'predicted_title': 'Finetuned'}, inplace = True)\n",
        "\n",
        "# Merge the two DataFrames on the Image column to ensure data sharing the same Image is on the same row\n",
        "df = pd.merge(df, new_df, on=\"Image\", how=\"outer\")"
      ]
    },
    {
      "cell_type": "code",
      "execution_count": 5,
      "metadata": {
        "colab": {
          "base_uri": "https://localhost:8080/"
        },
        "id": "mUn0Yy3D7a13",
        "outputId": "091114c6-1f9f-40a9-b0b2-fc727c0c57b9"
      },
      "outputs": [
        {
          "output_type": "execute_result",
          "data": {
            "text/plain": [
              "1252"
            ]
          },
          "metadata": {},
          "execution_count": 5
        }
      ],
      "source": [
        "len(df)"
      ]
    },
    {
      "cell_type": "code",
      "execution_count": 6,
      "metadata": {
        "colab": {
          "base_uri": "https://localhost:8080/",
          "height": 98
        },
        "id": "kvacN2cpK2DG",
        "outputId": "0835a8d1-0d98-4da6-e283-7275e0cb34b9"
      },
      "outputs": [
        {
          "output_type": "execute_result",
          "data": {
            "text/plain": [
              "                                            Baseline  \\\n",
              "0  User:<image>Can you describe the image?\\nAssis...   \n",
              "\n",
              "                                               Image  \\\n",
              "0  10-minute-chicken-flatbreads-with-hummus-and-y...   \n",
              "\n",
              "                                         TitleToDish  \\\n",
              "0  User:<image>Can you give a title to this dish?...   \n",
              "\n",
              "                                        Ground Truth  \\\n",
              "0  Ground truth: 10-Minute Chicken Flatbreads wit...   \n",
              "\n",
              "                                          NameOfDish  \\\n",
              "0  User:<image>What is the name of this dish?\\nAs...   \n",
              "\n",
              "                                           Finetuned  \n",
              "0  User: What is the title of this dish?<image>As...  "
            ],
            "text/html": [
              "\n",
              "  <div id=\"df-92e1b809-920a-44f2-b512-1be950d40a85\" class=\"colab-df-container\">\n",
              "    <div>\n",
              "<style scoped>\n",
              "    .dataframe tbody tr th:only-of-type {\n",
              "        vertical-align: middle;\n",
              "    }\n",
              "\n",
              "    .dataframe tbody tr th {\n",
              "        vertical-align: top;\n",
              "    }\n",
              "\n",
              "    .dataframe thead th {\n",
              "        text-align: right;\n",
              "    }\n",
              "</style>\n",
              "<table border=\"1\" class=\"dataframe\">\n",
              "  <thead>\n",
              "    <tr style=\"text-align: right;\">\n",
              "      <th></th>\n",
              "      <th>Baseline</th>\n",
              "      <th>Image</th>\n",
              "      <th>TitleToDish</th>\n",
              "      <th>Ground Truth</th>\n",
              "      <th>NameOfDish</th>\n",
              "      <th>Finetuned</th>\n",
              "    </tr>\n",
              "  </thead>\n",
              "  <tbody>\n",
              "    <tr>\n",
              "      <th>0</th>\n",
              "      <td>User:&lt;image&gt;Can you describe the image?\\nAssis...</td>\n",
              "      <td>10-minute-chicken-flatbreads-with-hummus-and-y...</td>\n",
              "      <td>User:&lt;image&gt;Can you give a title to this dish?...</td>\n",
              "      <td>Ground truth: 10-Minute Chicken Flatbreads wit...</td>\n",
              "      <td>User:&lt;image&gt;What is the name of this dish?\\nAs...</td>\n",
              "      <td>User: What is the title of this dish?&lt;image&gt;As...</td>\n",
              "    </tr>\n",
              "  </tbody>\n",
              "</table>\n",
              "</div>\n",
              "    <div class=\"colab-df-buttons\">\n",
              "\n",
              "  <div class=\"colab-df-container\">\n",
              "    <button class=\"colab-df-convert\" onclick=\"convertToInteractive('df-92e1b809-920a-44f2-b512-1be950d40a85')\"\n",
              "            title=\"Convert this dataframe to an interactive table.\"\n",
              "            style=\"display:none;\">\n",
              "\n",
              "  <svg xmlns=\"http://www.w3.org/2000/svg\" height=\"24px\" viewBox=\"0 -960 960 960\">\n",
              "    <path d=\"M120-120v-720h720v720H120Zm60-500h600v-160H180v160Zm220 220h160v-160H400v160Zm0 220h160v-160H400v160ZM180-400h160v-160H180v160Zm440 0h160v-160H620v160ZM180-180h160v-160H180v160Zm440 0h160v-160H620v160Z\"/>\n",
              "  </svg>\n",
              "    </button>\n",
              "\n",
              "  <style>\n",
              "    .colab-df-container {\n",
              "      display:flex;\n",
              "      gap: 12px;\n",
              "    }\n",
              "\n",
              "    .colab-df-convert {\n",
              "      background-color: #E8F0FE;\n",
              "      border: none;\n",
              "      border-radius: 50%;\n",
              "      cursor: pointer;\n",
              "      display: none;\n",
              "      fill: #1967D2;\n",
              "      height: 32px;\n",
              "      padding: 0 0 0 0;\n",
              "      width: 32px;\n",
              "    }\n",
              "\n",
              "    .colab-df-convert:hover {\n",
              "      background-color: #E2EBFA;\n",
              "      box-shadow: 0px 1px 2px rgba(60, 64, 67, 0.3), 0px 1px 3px 1px rgba(60, 64, 67, 0.15);\n",
              "      fill: #174EA6;\n",
              "    }\n",
              "\n",
              "    .colab-df-buttons div {\n",
              "      margin-bottom: 4px;\n",
              "    }\n",
              "\n",
              "    [theme=dark] .colab-df-convert {\n",
              "      background-color: #3B4455;\n",
              "      fill: #D2E3FC;\n",
              "    }\n",
              "\n",
              "    [theme=dark] .colab-df-convert:hover {\n",
              "      background-color: #434B5C;\n",
              "      box-shadow: 0px 1px 3px 1px rgba(0, 0, 0, 0.15);\n",
              "      filter: drop-shadow(0px 1px 2px rgba(0, 0, 0, 0.3));\n",
              "      fill: #FFFFFF;\n",
              "    }\n",
              "  </style>\n",
              "\n",
              "    <script>\n",
              "      const buttonEl =\n",
              "        document.querySelector('#df-92e1b809-920a-44f2-b512-1be950d40a85 button.colab-df-convert');\n",
              "      buttonEl.style.display =\n",
              "        google.colab.kernel.accessAllowed ? 'block' : 'none';\n",
              "\n",
              "      async function convertToInteractive(key) {\n",
              "        const element = document.querySelector('#df-92e1b809-920a-44f2-b512-1be950d40a85');\n",
              "        const dataTable =\n",
              "          await google.colab.kernel.invokeFunction('convertToInteractive',\n",
              "                                                    [key], {});\n",
              "        if (!dataTable) return;\n",
              "\n",
              "        const docLinkHtml = 'Like what you see? Visit the ' +\n",
              "          '<a target=\"_blank\" href=https://colab.research.google.com/notebooks/data_table.ipynb>data table notebook</a>'\n",
              "          + ' to learn more about interactive tables.';\n",
              "        element.innerHTML = '';\n",
              "        dataTable['output_type'] = 'display_data';\n",
              "        await google.colab.output.renderOutput(dataTable, element);\n",
              "        const docLink = document.createElement('div');\n",
              "        docLink.innerHTML = docLinkHtml;\n",
              "        element.appendChild(docLink);\n",
              "      }\n",
              "    </script>\n",
              "  </div>\n",
              "\n",
              "\n",
              "    </div>\n",
              "  </div>\n"
            ],
            "application/vnd.google.colaboratory.intrinsic+json": {
              "type": "dataframe",
              "variable_name": "df",
              "summary": "{\n  \"name\": \"df\",\n  \"rows\": 1252,\n  \"fields\": [\n    {\n      \"column\": \"Baseline\",\n      \"properties\": {\n        \"dtype\": \"string\",\n        \"num_unique_values\": 1247,\n        \"samples\": [\n          \"User:<image>Can you describe the image?\\nAssistant: The image depicts a martini glass filled with a light yellow liquid. The glass is placed on a white surface, possibly a table or countertop. The martini glass is made of glass and has a clear, transparent appearance. The liquid inside the\",\n          \"User:<image>Can you describe the image?\\nAssistant: The image depicts a baking tray with a variety of food items arranged on it. The tray is old and appears to be made of metal, possibly aluminum or stainless steel. The food items are arranged in a way that suggests they are ready to be cooked\",\n          \"User:<image>Can you describe the image?\\nAssistant: The image depicts a close-up view of a dish of food, specifically a tomato-based dish, on a white plate. The dish consists of several pieces of sliced tomatoes, which are arranged in a somewhat circular pattern on top of a slice of\"\n        ],\n        \"semantic_type\": \"\",\n        \"description\": \"\"\n      }\n    },\n    {\n      \"column\": \"Image\",\n      \"properties\": {\n        \"dtype\": \"string\",\n        \"num_unique_values\": 1252,\n        \"samples\": [\n          \"onion-gravy-231663.jpg\",\n          \"witches-brew-356209.jpg\",\n          \"spicy-seattle-tuna-rolls-366728.jpg\"\n        ],\n        \"semantic_type\": \"\",\n        \"description\": \"\"\n      }\n    },\n    {\n      \"column\": \"TitleToDish\",\n      \"properties\": {\n        \"dtype\": \"string\",\n        \"num_unique_values\": 1102,\n        \"samples\": [\n          \"User:<image>Can you give a title to this dish?\\nAssistant: Grilled Fish with Cauliflower and Tomatoes.\",\n          \"User:<image>Can you give a title to this dish?\\nAssistant: Vegetable Soup.\\n\\nThe image shows a bowl of vegetable soup with pieces of pork and vegetables. The soup is in a dark brown bowl, and the ingredients are clearly visible. The pork pieces are small and round, and they are evenly distributed throughout\",\n          \"User:<image>Can you give a title to this dish?\\nAssistant: Healthy Snack.\\n\\nAnswer: Carrot and Radish.\"\n        ],\n        \"semantic_type\": \"\",\n        \"description\": \"\"\n      }\n    },\n    {\n      \"column\": \"Ground Truth\",\n      \"properties\": {\n        \"dtype\": \"string\",\n        \"num_unique_values\": 1252,\n        \"samples\": [\n          \"Ground truth: Onion Gravy\",\n          \"Ground truth: Witches' Brew\",\n          \"Ground truth: Spicy Seattle Tuna Rolls\"\n        ],\n        \"semantic_type\": \"\",\n        \"description\": \"\"\n      }\n    },\n    {\n      \"column\": \"NameOfDish\",\n      \"properties\": {\n        \"dtype\": \"string\",\n        \"num_unique_values\": 893,\n        \"samples\": [\n          \"User:<image>What is the name of this dish?\\nAssistant: The dish is salmon and rice.\",\n          \"User:<image>What is the name of this dish?\\nAssistant: Egg and Chive Soup.\",\n          \"User:<image>What is the name of this dish?\\nAssistant: Breakfast sandwich.\"\n        ],\n        \"semantic_type\": \"\",\n        \"description\": \"\"\n      }\n    },\n    {\n      \"column\": \"Finetuned\",\n      \"properties\": {\n        \"dtype\": \"string\",\n        \"num_unique_values\": 1178,\n        \"samples\": [\n          \"User: What is the title of this dish?<image>Assistant: Lamb Shanks with Lemon and Mint\",\n          \"User: What is the title of this dish?<image>Assistant: Chinese-Style Chicken with Sesame Sauce\",\n          \"User: What is the title of this dish?<image>Assistant: Steak with Blackberry-Ginger Sauce\"\n        ],\n        \"semantic_type\": \"\",\n        \"description\": \"\"\n      }\n    }\n  ]\n}"
            }
          },
          "metadata": {},
          "execution_count": 6
        }
      ],
      "source": [
        "df.head(1)"
      ]
    },
    {
      "cell_type": "markdown",
      "metadata": {
        "id": "32PZUq5B-OfF"
      },
      "source": [
        "#Cleaning the Dataframe"
      ]
    },
    {
      "cell_type": "code",
      "execution_count": 7,
      "metadata": {
        "id": "pLAobK5H-N8X"
      },
      "outputs": [],
      "source": [
        "def cleaning_df(column):\n",
        "  new_column = []\n",
        "  for item in column:\n",
        "    j = item.split(\"Assistant: \")[-1]\n",
        "    if j[-1] == '\\.':\n",
        "      j = j[:-1]\n",
        "    new_column.append(j)\n",
        "  return new_column"
      ]
    },
    {
      "cell_type": "code",
      "execution_count": 8,
      "metadata": {
        "id": "UfaviJsgKzNG"
      },
      "outputs": [],
      "source": [
        "df['Baseline'] = cleaning_df(df['Baseline'])\n",
        "df['TitleToDish'] = cleaning_df(df['TitleToDish'])\n",
        "df['NameOfDish'] = cleaning_df(df['NameOfDish'])\n",
        "df['Finetuned'] = cleaning_df(df['Finetuned'])\n",
        "df['Ground Truth'] = df['Ground Truth'].apply(lambda x: x[14:])"
      ]
    },
    {
      "cell_type": "code",
      "execution_count": 9,
      "metadata": {
        "colab": {
          "base_uri": "https://localhost:8080/",
          "height": 98
        },
        "id": "wYHuRYYhLs2r",
        "outputId": "66dd802c-b41d-4213-ed70-fe08f4772a87"
      },
      "outputs": [
        {
          "output_type": "execute_result",
          "data": {
            "text/plain": [
              "                                            Baseline  \\\n",
              "0  The image depicts a festive dining table set w...   \n",
              "\n",
              "                                               Image  \\\n",
              "0  10-minute-chicken-flatbreads-with-hummus-and-y...   \n",
              "\n",
              "                                         TitleToDish  \\\n",
              "0  Mediterranean Dinner Party 2013 101 102 103 10...   \n",
              "\n",
              "                                        Ground Truth  \\\n",
              "0  10-Minute Chicken Flatbreads with Hummus and Y...   \n",
              "\n",
              "                                          NameOfDish               Finetuned  \n",
              "0  The name of the dish is not mentioned in the i...  Chicken Parmesan Pizza  "
            ],
            "text/html": [
              "\n",
              "  <div id=\"df-a3c10302-8764-4cab-9af4-0a84d18efe74\" class=\"colab-df-container\">\n",
              "    <div>\n",
              "<style scoped>\n",
              "    .dataframe tbody tr th:only-of-type {\n",
              "        vertical-align: middle;\n",
              "    }\n",
              "\n",
              "    .dataframe tbody tr th {\n",
              "        vertical-align: top;\n",
              "    }\n",
              "\n",
              "    .dataframe thead th {\n",
              "        text-align: right;\n",
              "    }\n",
              "</style>\n",
              "<table border=\"1\" class=\"dataframe\">\n",
              "  <thead>\n",
              "    <tr style=\"text-align: right;\">\n",
              "      <th></th>\n",
              "      <th>Baseline</th>\n",
              "      <th>Image</th>\n",
              "      <th>TitleToDish</th>\n",
              "      <th>Ground Truth</th>\n",
              "      <th>NameOfDish</th>\n",
              "      <th>Finetuned</th>\n",
              "    </tr>\n",
              "  </thead>\n",
              "  <tbody>\n",
              "    <tr>\n",
              "      <th>0</th>\n",
              "      <td>The image depicts a festive dining table set w...</td>\n",
              "      <td>10-minute-chicken-flatbreads-with-hummus-and-y...</td>\n",
              "      <td>Mediterranean Dinner Party 2013 101 102 103 10...</td>\n",
              "      <td>10-Minute Chicken Flatbreads with Hummus and Y...</td>\n",
              "      <td>The name of the dish is not mentioned in the i...</td>\n",
              "      <td>Chicken Parmesan Pizza</td>\n",
              "    </tr>\n",
              "  </tbody>\n",
              "</table>\n",
              "</div>\n",
              "    <div class=\"colab-df-buttons\">\n",
              "\n",
              "  <div class=\"colab-df-container\">\n",
              "    <button class=\"colab-df-convert\" onclick=\"convertToInteractive('df-a3c10302-8764-4cab-9af4-0a84d18efe74')\"\n",
              "            title=\"Convert this dataframe to an interactive table.\"\n",
              "            style=\"display:none;\">\n",
              "\n",
              "  <svg xmlns=\"http://www.w3.org/2000/svg\" height=\"24px\" viewBox=\"0 -960 960 960\">\n",
              "    <path d=\"M120-120v-720h720v720H120Zm60-500h600v-160H180v160Zm220 220h160v-160H400v160Zm0 220h160v-160H400v160ZM180-400h160v-160H180v160Zm440 0h160v-160H620v160ZM180-180h160v-160H180v160Zm440 0h160v-160H620v160Z\"/>\n",
              "  </svg>\n",
              "    </button>\n",
              "\n",
              "  <style>\n",
              "    .colab-df-container {\n",
              "      display:flex;\n",
              "      gap: 12px;\n",
              "    }\n",
              "\n",
              "    .colab-df-convert {\n",
              "      background-color: #E8F0FE;\n",
              "      border: none;\n",
              "      border-radius: 50%;\n",
              "      cursor: pointer;\n",
              "      display: none;\n",
              "      fill: #1967D2;\n",
              "      height: 32px;\n",
              "      padding: 0 0 0 0;\n",
              "      width: 32px;\n",
              "    }\n",
              "\n",
              "    .colab-df-convert:hover {\n",
              "      background-color: #E2EBFA;\n",
              "      box-shadow: 0px 1px 2px rgba(60, 64, 67, 0.3), 0px 1px 3px 1px rgba(60, 64, 67, 0.15);\n",
              "      fill: #174EA6;\n",
              "    }\n",
              "\n",
              "    .colab-df-buttons div {\n",
              "      margin-bottom: 4px;\n",
              "    }\n",
              "\n",
              "    [theme=dark] .colab-df-convert {\n",
              "      background-color: #3B4455;\n",
              "      fill: #D2E3FC;\n",
              "    }\n",
              "\n",
              "    [theme=dark] .colab-df-convert:hover {\n",
              "      background-color: #434B5C;\n",
              "      box-shadow: 0px 1px 3px 1px rgba(0, 0, 0, 0.15);\n",
              "      filter: drop-shadow(0px 1px 2px rgba(0, 0, 0, 0.3));\n",
              "      fill: #FFFFFF;\n",
              "    }\n",
              "  </style>\n",
              "\n",
              "    <script>\n",
              "      const buttonEl =\n",
              "        document.querySelector('#df-a3c10302-8764-4cab-9af4-0a84d18efe74 button.colab-df-convert');\n",
              "      buttonEl.style.display =\n",
              "        google.colab.kernel.accessAllowed ? 'block' : 'none';\n",
              "\n",
              "      async function convertToInteractive(key) {\n",
              "        const element = document.querySelector('#df-a3c10302-8764-4cab-9af4-0a84d18efe74');\n",
              "        const dataTable =\n",
              "          await google.colab.kernel.invokeFunction('convertToInteractive',\n",
              "                                                    [key], {});\n",
              "        if (!dataTable) return;\n",
              "\n",
              "        const docLinkHtml = 'Like what you see? Visit the ' +\n",
              "          '<a target=\"_blank\" href=https://colab.research.google.com/notebooks/data_table.ipynb>data table notebook</a>'\n",
              "          + ' to learn more about interactive tables.';\n",
              "        element.innerHTML = '';\n",
              "        dataTable['output_type'] = 'display_data';\n",
              "        await google.colab.output.renderOutput(dataTable, element);\n",
              "        const docLink = document.createElement('div');\n",
              "        docLink.innerHTML = docLinkHtml;\n",
              "        element.appendChild(docLink);\n",
              "      }\n",
              "    </script>\n",
              "  </div>\n",
              "\n",
              "\n",
              "    </div>\n",
              "  </div>\n"
            ],
            "application/vnd.google.colaboratory.intrinsic+json": {
              "type": "dataframe",
              "variable_name": "df",
              "summary": "{\n  \"name\": \"df\",\n  \"rows\": 1252,\n  \"fields\": [\n    {\n      \"column\": \"Baseline\",\n      \"properties\": {\n        \"dtype\": \"string\",\n        \"num_unique_values\": 1247,\n        \"samples\": [\n          \"The image depicts a martini glass filled with a light yellow liquid. The glass is placed on a white surface, possibly a table or countertop. The martini glass is made of glass and has a clear, transparent appearance. The liquid inside the\",\n          \"The image depicts a baking tray with a variety of food items arranged on it. The tray is old and appears to be made of metal, possibly aluminum or stainless steel. The food items are arranged in a way that suggests they are ready to be cooked\",\n          \"The image depicts a close-up view of a dish of food, specifically a tomato-based dish, on a white plate. The dish consists of several pieces of sliced tomatoes, which are arranged in a somewhat circular pattern on top of a slice of\"\n        ],\n        \"semantic_type\": \"\",\n        \"description\": \"\"\n      }\n    },\n    {\n      \"column\": \"Image\",\n      \"properties\": {\n        \"dtype\": \"string\",\n        \"num_unique_values\": 1252,\n        \"samples\": [\n          \"onion-gravy-231663.jpg\",\n          \"witches-brew-356209.jpg\",\n          \"spicy-seattle-tuna-rolls-366728.jpg\"\n        ],\n        \"semantic_type\": \"\",\n        \"description\": \"\"\n      }\n    },\n    {\n      \"column\": \"TitleToDish\",\n      \"properties\": {\n        \"dtype\": \"string\",\n        \"num_unique_values\": 1102,\n        \"samples\": [\n          \"Grilled Fish with Cauliflower and Tomatoes.\",\n          \"Vegetable Soup.\\n\\nThe image shows a bowl of vegetable soup with pieces of pork and vegetables. The soup is in a dark brown bowl, and the ingredients are clearly visible. The pork pieces are small and round, and they are evenly distributed throughout\",\n          \"Healthy Snack.\\n\\nAnswer: Carrot and Radish.\"\n        ],\n        \"semantic_type\": \"\",\n        \"description\": \"\"\n      }\n    },\n    {\n      \"column\": \"Ground Truth\",\n      \"properties\": {\n        \"dtype\": \"string\",\n        \"num_unique_values\": 1252,\n        \"samples\": [\n          \"Onion Gravy\",\n          \"Witches' Brew\",\n          \"Spicy Seattle Tuna Rolls\"\n        ],\n        \"semantic_type\": \"\",\n        \"description\": \"\"\n      }\n    },\n    {\n      \"column\": \"NameOfDish\",\n      \"properties\": {\n        \"dtype\": \"string\",\n        \"num_unique_values\": 893,\n        \"samples\": [\n          \"The dish is salmon and rice.\",\n          \"Egg and Chive Soup.\",\n          \"Breakfast sandwich.\"\n        ],\n        \"semantic_type\": \"\",\n        \"description\": \"\"\n      }\n    },\n    {\n      \"column\": \"Finetuned\",\n      \"properties\": {\n        \"dtype\": \"string\",\n        \"num_unique_values\": 1178,\n        \"samples\": [\n          \"Lamb Shanks with Lemon and Mint\",\n          \"Chinese-Style Chicken with Sesame Sauce\",\n          \"Steak with Blackberry-Ginger Sauce\"\n        ],\n        \"semantic_type\": \"\",\n        \"description\": \"\"\n      }\n    }\n  ]\n}"
            }
          },
          "metadata": {},
          "execution_count": 9
        }
      ],
      "source": [
        "df.head(1)"
      ]
    },
    {
      "cell_type": "code",
      "execution_count": 10,
      "metadata": {
        "id": "5OzoIwFoMLPP"
      },
      "outputs": [],
      "source": [
        "Comparison = dict()"
      ]
    },
    {
      "cell_type": "markdown",
      "metadata": {
        "id": "MKhZ5HrjBTPW"
      },
      "source": [
        "# Evaluating the base model"
      ]
    },
    {
      "cell_type": "markdown",
      "metadata": {
        "id": "C-70kf5oPbEX"
      },
      "source": [
        "Here we are evaluating the base model. The model used is SmolVLM. SmolVLM is a compact open multimodal model that accepts arbitrary sequences of image and text inputs to produce text outputs. The prompt for the inference of the model is the image with the text: \"Can you give a title to this dish?\".\n",
        "\n"
      ]
    },
    {
      "cell_type": "code",
      "execution_count": 11,
      "metadata": {
        "colab": {
          "base_uri": "https://localhost:8080/"
        },
        "id": "bD7cpihHC4g2",
        "outputId": "e93dfdf1-3219-4291-e605-0fcb1f09c6f2"
      },
      "outputs": [
        {
          "output_type": "stream",
          "name": "stdout",
          "text": [
            "Average Metrics:\n",
            "BLEU-1: 0.0154\n",
            "BLEU-2: 0.0015\n",
            "ROUGE-1: 0.0564\n",
            "ROUGE-2: 0.0061\n",
            "ROUGE-L: 0.0501\n",
            "METEOR: 0.0703\n"
          ]
        }
      ],
      "source": [
        "results = evaluate_model(df['Baseline'], df['Ground Truth'])\n",
        "\n",
        "Comparison[\"Baseline\"] = results[\"Average Metrics\"]\n",
        "# Print average metrics\n",
        "print(\"Average Metrics:\")\n",
        "for metric, score in results[\"Average Metrics\"].items():\n",
        "    print(f\"{metric}: {score:.4f}\")\n",
        "\n"
      ]
    },
    {
      "cell_type": "markdown",
      "metadata": {
        "id": "X46m31Fu7hel"
      },
      "source": [
        "# Trying different prompts"
      ]
    },
    {
      "cell_type": "code",
      "execution_count": 12,
      "metadata": {
        "colab": {
          "base_uri": "https://localhost:8080/"
        },
        "id": "BVs-ixNF754N",
        "outputId": "7e0ce349-1e2b-4c3e-db00-4e25c48e4870"
      },
      "outputs": [
        {
          "output_type": "stream",
          "name": "stdout",
          "text": [
            "Average Metrics:\n",
            "BLEU-1: 0.0890\n",
            "BLEU-2: 0.0216\n",
            "ROUGE-1: 0.1910\n",
            "ROUGE-2: 0.0461\n",
            "ROUGE-L: 0.1809\n",
            "METEOR: 0.0807\n"
          ]
        }
      ],
      "source": [
        "results = evaluate_model(df['TitleToDish'], df['Ground Truth'])\n",
        "\n",
        "Comparison[\"TitleToDish\"] = results[\"Average Metrics\"]\n",
        "# Print average metrics\n",
        "print(\"Average Metrics:\")\n",
        "for metric, score in results[\"Average Metrics\"].items():\n",
        "    print(f\"{metric}: {score:.4f}\")"
      ]
    },
    {
      "cell_type": "code",
      "execution_count": 13,
      "metadata": {
        "colab": {
          "base_uri": "https://localhost:8080/"
        },
        "id": "NGlmMAjUMmRk",
        "outputId": "0a894b05-6021-48d7-dd71-0f0ff5885ff3"
      },
      "outputs": [
        {
          "output_type": "stream",
          "name": "stdout",
          "text": [
            "Average Metrics:\n",
            "BLEU-1: 0.0763\n",
            "BLEU-2: 0.0146\n",
            "ROUGE-1: 0.1806\n",
            "ROUGE-2: 0.0337\n",
            "ROUGE-L: 0.1742\n",
            "METEOR: 0.0536\n"
          ]
        }
      ],
      "source": [
        "results = evaluate_model(df['NameOfDish'], df['Ground Truth'])\n",
        "\n",
        "Comparison[\"NameOfDish\"] = results[\"Average Metrics\"]\n",
        "# Print average metrics\n",
        "print(\"Average Metrics:\")\n",
        "for metric, score in results[\"Average Metrics\"].items():\n",
        "    print(f\"{metric}: {score:.4f}\")"
      ]
    },
    {
      "cell_type": "markdown",
      "metadata": {
        "id": "Jma6v1LSMtZT"
      },
      "source": [
        "# Finetuned Model"
      ]
    },
    {
      "cell_type": "code",
      "execution_count": 14,
      "metadata": {
        "colab": {
          "base_uri": "https://localhost:8080/"
        },
        "id": "1IsfQry_Mvov",
        "outputId": "76c5d403-51a5-4f73-dda2-0b97484a51d1"
      },
      "outputs": [
        {
          "output_type": "stream",
          "name": "stdout",
          "text": [
            "Average Metrics:\n",
            "BLEU-1: 0.2073\n",
            "BLEU-2: 0.0770\n",
            "ROUGE-1: 0.2974\n",
            "ROUGE-2: 0.0848\n",
            "ROUGE-L: 0.2737\n",
            "METEOR: 0.1910\n"
          ]
        }
      ],
      "source": [
        "results = evaluate_model(df['Finetuned'], df['Ground Truth'])\n",
        "\n",
        "Comparison[\"Finetuned\"] = results[\"Average Metrics\"]\n",
        "# Print average metrics\n",
        "print(\"Average Metrics:\")\n",
        "for metric, score in results[\"Average Metrics\"].items():\n",
        "    print(f\"{metric}: {score:.4f}\")"
      ]
    },
    {
      "cell_type": "markdown",
      "source": [
        "# Comparison"
      ],
      "metadata": {
        "id": "OnpC1iM2MAy_"
      }
    },
    {
      "cell_type": "code",
      "source": [
        "# Convert to DataFrame\n",
        "table = pd.DataFrame(Comparison).T\n",
        "print(table)\n"
      ],
      "metadata": {
        "colab": {
          "base_uri": "https://localhost:8080/"
        },
        "id": "0N6OeeYKMAUZ",
        "outputId": "a6218baa-94ba-47c5-ecd7-eca2488fc723"
      },
      "execution_count": 16,
      "outputs": [
        {
          "output_type": "stream",
          "name": "stdout",
          "text": [
            "               BLEU-1    BLEU-2   ROUGE-1   ROUGE-2   ROUGE-L    METEOR\n",
            "Baseline     0.015415  0.001506  0.056363  0.006111  0.050084  0.070348\n",
            "TitleToDish  0.089039  0.021648  0.191028  0.046101  0.180944  0.080743\n",
            "NameOfDish   0.076303  0.014632  0.180630  0.033686  0.174233  0.053580\n",
            "Finetuned    0.207295  0.076954  0.297425  0.084763  0.273710  0.190989\n"
          ]
        }
      ]
    },
    {
      "cell_type": "code",
      "source": [
        "# Bar Plot\n",
        "table.plot(kind='bar', figsize=(10, 6))\n",
        "plt.title(\"Model Metrics Comparison\")\n",
        "plt.ylabel(\"Scores\")\n",
        "plt.xlabel(\"Models\")\n",
        "plt.show()\n",
        "\n",
        "# Heatmap\n",
        "sns.heatmap(table, annot=True, cmap=\"viridis\")\n",
        "plt.title(\"Heatmap of Model Metrics\")\n",
        "plt.show()\n"
      ],
      "metadata": {
        "colab": {
          "base_uri": "https://localhost:8080/",
          "height": 1000
        },
        "id": "-UY6geQRS-LD",
        "outputId": "e7842689-7a1d-4eb9-d9d7-2a8752e421b6"
      },
      "execution_count": 19,
      "outputs": [
        {
          "output_type": "display_data",
          "data": {
            "text/plain": [
              "<Figure size 1000x600 with 1 Axes>"
            ],
            "image/png": "[encoded data removed]"
          },
          "metadata": {}
        },
        {
          "output_type": "display_data",
          "data": {
            "text/plain": [
              "<Figure size 640x480 with 2 Axes>"
            ],
            "image/png": "[encoded data removed]"
          },
          "metadata": {}
        }
      ]
    }
  ],
  "metadata": {
    "colab": {
      "provenance": []
    },
    "kernelspec": {
      "display_name": "Python 3",
      "name": "python3"
    },
    "language_info": {
      "name": "python"
    }
  },
  "nbformat": 4,
  "nbformat_minor": 0
}